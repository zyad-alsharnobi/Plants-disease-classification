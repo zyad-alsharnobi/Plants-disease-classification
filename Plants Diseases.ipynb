{
 "cells": [
  {
   "cell_type": "code",
   "execution_count": 3,
   "metadata": {},
   "outputs": [],
   "source": [
    "import tensorflow as tf\n",
    "from tensorflow.keras.preprocessing.image import ImageDataGenerator\n",
    "from tensorflow.keras.applications import ResNet50, EfficientNetB0, MobileNetV2\n",
    "from tensorflow.keras.layers import Dense, GlobalAveragePooling2D, Dropout, BatchNormalization\n",
    "from tensorflow.keras.models import Sequential, Model\n",
    "from tensorflow.keras.callbacks import EarlyStopping, ReduceLROnPlateau\n",
    "from sklearn.model_selection import train_test_split\n",
    "from sklearn.metrics import precision_score, recall_score\n",
    "import numpy as np\n",
    "import tensorflow as tf\n",
    "from tensorflow.keras.layers import Dense, Conv2D, Flatten, MaxPooling2D, Dropout, BatchNormalization, GlobalAveragePooling2D"
   ]
  },
  {
   "cell_type": "code",
   "execution_count": 4,
   "metadata": {},
   "outputs": [
    {
     "name": "stdout",
     "output_type": "stream",
     "text": [
      "Found 56251 images belonging to 38 classes.\n",
      "Found 14044 images belonging to 38 classes.\n",
      "Found 17572 images belonging to 38 classes.\n"
     ]
    }
   ],
   "source": [
    "train_dir = 'New Plant Diseases Dataset(Augmented)/train'\n",
    "valid_dir = 'New Plant Diseases Dataset(Augmented)/valid'\n",
    "\n",
    "img_height = 224\n",
    "img_width = 224\n",
    "batch_size = 32\n",
    "\n",
    "train_datagen = ImageDataGenerator(\n",
    "    rescale=1./255,\n",
    "    validation_split=0.2,  \n",
    ")\n",
    "\n",
    "valid_datagen = ImageDataGenerator(rescale=1./255)\n",
    "\n",
    "train_generator = train_datagen.flow_from_directory(\n",
    "    train_dir,\n",
    "    target_size=(img_height, img_width),\n",
    "    batch_size=batch_size,\n",
    "    class_mode='categorical',\n",
    "    subset='training'\n",
    ")\n",
    "\n",
    "test_generator = train_datagen.flow_from_directory(\n",
    "    train_dir,\n",
    "    target_size=(img_height, img_width),\n",
    "    batch_size=batch_size,\n",
    "    class_mode='categorical',\n",
    "    subset='validation'\n",
    ")\n",
    "\n",
    "valid_generator = valid_datagen.flow_from_directory(\n",
    "    valid_dir,\n",
    "    target_size=(img_height, img_width),\n",
    "    batch_size=batch_size,\n",
    "    class_mode='categorical'\n",
    ")\n",
    "\n",
    "num_classes = train_generator.num_classes\n",
    "\n",
    "callbacks = [\n",
    "    EarlyStopping(patience=10, restore_best_weights=True),\n",
    "    ReduceLROnPlateau(factor=0.2, patience=5)\n",
    "]"
   ]
  },
  {
   "cell_type": "code",
   "execution_count": 3,
   "metadata": {},
   "outputs": [],
   "source": [
    "# 1. Simple CNN Model\n",
    "def create_simple_cnn():\n",
    "    model = Sequential([\n",
    "        Conv2D(32, 3, activation='relu', input_shape=(img_height, img_width, 3)),\n",
    "        BatchNormalization(),\n",
    "        MaxPooling2D(),\n",
    "        \n",
    "        Conv2D(64, 3, activation='relu'),\n",
    "        BatchNormalization(),\n",
    "        MaxPooling2D(),\n",
    "        \n",
    "        Conv2D(128, 3, activation='relu'),\n",
    "        BatchNormalization(),\n",
    "        MaxPooling2D(),\n",
    "        \n",
    "        Flatten(),\n",
    "        Dense(256, activation='relu'),\n",
    "        BatchNormalization(),\n",
    "        Dropout(0.5),\n",
    "        Dense(num_classes, activation='softmax')\n",
    "    ])\n",
    "    return model\n",
    "\n",
    "# 2. ResNet50 Model\n",
    "def create_resnet50():\n",
    "    base_model = ResNet50(weights='imagenet', include_top=False, input_shape=(img_height, img_width, 3))\n",
    "    x = base_model.output\n",
    "    x = GlobalAveragePooling2D()(x)\n",
    "    x = Dense(512, activation='relu')(x)\n",
    "    x = BatchNormalization()(x)\n",
    "    x = Dropout(0.5)(x)\n",
    "    predictions = Dense(num_classes, activation='softmax')(x)\n",
    "    model = Model(inputs=base_model.input, outputs=predictions)\n",
    "    return model\n",
    "\n",
    "# 3. EfficientNetB0 Model\n",
    "def create_efficientnet():\n",
    "    base_model = EfficientNetB0(weights='imagenet', include_top=False, input_shape=(img_height, img_width, 3))\n",
    "    x = base_model.output\n",
    "    x = GlobalAveragePooling2D()(x)\n",
    "    x = Dense(512, activation='relu')(x)\n",
    "    x = BatchNormalization()(x)\n",
    "    x = Dropout(0.5)(x)\n",
    "    predictions = Dense(num_classes, activation='softmax')(x)\n",
    "    model = Model(inputs=base_model.input, outputs=predictions)\n",
    "    return model\n",
    "\n",
    "# 4. MobileNetV2 Model\n",
    "def create_mobilenet():\n",
    "    base_model = MobileNetV2(weights='imagenet', include_top=False, input_shape=(img_height, img_width, 3))\n",
    "    x = base_model.output\n",
    "    x = GlobalAveragePooling2D()(x)\n",
    "    x = Dense(512, activation='relu')(x)\n",
    "    x = BatchNormalization()(x)\n",
    "    x = Dropout(0.5)(x)\n",
    "    predictions = Dense(num_classes, activation='softmax')(x)\n",
    "    model = Model(inputs=base_model.input, outputs=predictions)\n",
    "    return model"
   ]
  },
  {
   "cell_type": "code",
   "execution_count": 6,
   "metadata": {},
   "outputs": [],
   "source": [
    "def train_and_evaluate_model(model, model_name):\n",
    "    model.compile(\n",
    "        optimizer='adam',\n",
    "        loss='categorical_crossentropy',\n",
    "        metrics=['accuracy',\n",
    "                tf.keras.metrics.Precision(name='precision'),\n",
    "                tf.keras.metrics.Recall(name='recall')]\n",
    "    )\n",
    "    \n",
    "    history = model.fit(\n",
    "        train_generator,\n",
    "        validation_data=valid_generator, \n",
    "        epochs=20,\n",
    "        callbacks=callbacks\n",
    "    )\n",
    "    \n",
    "    last_epoch = history.history\n",
    "    train_acc = last_epoch['accuracy'][-1]\n",
    "    train_precision = last_epoch['precision'][-1]\n",
    "    train_recall = last_epoch['recall'][-1]\n",
    "    \n",
    "    test_results = model.evaluate(\n",
    "        test_generator,\n",
    "        verbose=1\n",
    "    )\n",
    "    \n",
    "    test_acc = test_results[1]\n",
    "    test_precision = test_results[2]\n",
    "    test_recall = test_results[3]\n",
    "    \n",
    "    return {\n",
    "        'model': model_name,\n",
    "        'train_acc': train_acc,\n",
    "        'test_acc': test_acc,\n",
    "        'train_precision': train_precision,\n",
    "        'test_precision': test_precision,\n",
    "        'train_recall': train_recall,\n",
    "        'test_recall': test_recall\n",
    "    }"
   ]
  },
  {
   "cell_type": "code",
   "execution_count": 6,
   "metadata": {},
   "outputs": [
    {
     "name": "stdout",
     "output_type": "stream",
     "text": [
      "Training ResNet50...\n",
      "Epoch 1/20\n"
     ]
    },
    {
     "name": "stderr",
     "output_type": "stream",
     "text": [
      "/home/ziad/miniconda3/envs/tf-gpu/lib/python3.11/site-packages/keras/src/trainers/data_adapters/py_dataset_adapter.py:122: UserWarning: Your `PyDataset` class should call `super().__init__(**kwargs)` in its constructor. `**kwargs` can include `workers`, `use_multiprocessing`, `max_queue_size`. Do not pass these arguments to `fit()`, as they will be ignored.\n",
      "  self._warn_if_super_not_called()\n",
      "WARNING: All log messages before absl::InitializeLog() is called are written to STDERR\n",
      "I0000 00:00:1729948087.875341    1311 service.cc:146] XLA service 0x7f98ac002600 initialized for platform CUDA (this does not guarantee that XLA will be used). Devices:\n",
      "I0000 00:00:1729948087.875385    1311 service.cc:154]   StreamExecutor device (0): NVIDIA GeForce RTX 3060 Laptop GPU, Compute Capability 8.6\n",
      "2024-10-26 16:08:08.396636: I tensorflow/compiler/mlir/tensorflow/utils/dump_mlir_util.cc:268] disabling MLIR crash reproducer, set env var `MLIR_CRASH_REPRODUCER_DIRECTORY` to enable.\n",
      "2024-10-26 16:08:10.600271: I external/local_xla/xla/stream_executor/cuda/cuda_dnn.cc:531] Loaded cuDNN version 8907\n",
      "2024-10-26 16:08:13.826663: I external/local_xla/xla/stream_executor/cuda/cuda_asm_compiler.cc:393] ptxas warning : Registers are spilled to local memory in function 'gemm_fusion_dot_15551', 176 bytes spill stores, 468 bytes spill loads\n",
      "\n",
      "2024-10-26 16:08:13.996732: I external/local_xla/xla/stream_executor/cuda/cuda_asm_compiler.cc:393] ptxas warning : Registers are spilled to local memory in function 'gemm_fusion_dot_17630', 8 bytes spill stores, 8 bytes spill loads\n",
      "\n",
      "2024-10-26 16:08:14.073538: I external/local_xla/xla/stream_executor/cuda/cuda_asm_compiler.cc:393] ptxas warning : Registers are spilled to local memory in function 'gemm_fusion_dot_17632', 8 bytes spill stores, 8 bytes spill loads\n",
      "\n",
      "2024-10-26 16:08:14.186234: I external/local_xla/xla/stream_executor/cuda/cuda_asm_compiler.cc:393] ptxas warning : Registers are spilled to local memory in function 'gemm_fusion_dot_17632', 32 bytes spill stores, 32 bytes spill loads\n",
      "\n",
      "2024-10-26 16:08:14.477831: I external/local_xla/xla/stream_executor/cuda/cuda_asm_compiler.cc:393] ptxas warning : Registers are spilled to local memory in function 'gemm_fusion_dot_17632', 32 bytes spill stores, 32 bytes spill loads\n",
      "\n",
      "2024-10-26 16:08:14.543532: I external/local_xla/xla/stream_executor/cuda/cuda_asm_compiler.cc:393] ptxas warning : Registers are spilled to local memory in function 'gemm_fusion_dot_17632', 32 bytes spill stores, 32 bytes spill loads\n",
      "\n",
      "I0000 00:00:1729948116.058120    1311 device_compiler.h:188] Compiled cluster using XLA!  This line is logged at most once for the lifetime of the process.\n"
     ]
    },
    {
     "name": "stdout",
     "output_type": "stream",
     "text": [
      "\u001b[1m 968/1758\u001b[0m \u001b[32m━━━━━━━━━━━\u001b[0m\u001b[37m━━━━━━━━━\u001b[0m \u001b[1m2:33\u001b[0m 194ms/step - accuracy: 0.6919 - loss: 1.1653 - precision: 0.8060 - recall: 0.6144"
     ]
    },
    {
     "name": "stderr",
     "output_type": "stream",
     "text": [
      "2024-10-26 16:11:48.309847: I external/local_xla/xla/stream_executor/cuda/cuda_asm_compiler.cc:393] ptxas warning : Registers are spilled to local memory in function 'gemm_fusion_dot_15551', 176 bytes spill stores, 176 bytes spill loads\n",
      "\n",
      "2024-10-26 16:11:48.454402: I external/local_xla/xla/stream_executor/cuda/cuda_asm_compiler.cc:393] ptxas warning : Registers are spilled to local memory in function 'gemm_fusion_dot_15551', 28 bytes spill stores, 28 bytes spill loads\n",
      "\n",
      "2024-10-26 16:11:48.515806: I external/local_xla/xla/stream_executor/cuda/cuda_asm_compiler.cc:393] ptxas warning : Registers are spilled to local memory in function 'gemm_fusion_dot_17630', 12 bytes spill stores, 12 bytes spill loads\n",
      "\n",
      "2024-10-26 16:11:48.716379: I external/local_xla/xla/stream_executor/cuda/cuda_asm_compiler.cc:393] ptxas warning : Registers are spilled to local memory in function 'gemm_fusion_dot_17630', 12 bytes spill stores, 12 bytes spill loads\n",
      "\n",
      "2024-10-26 16:11:48.867347: I external/local_xla/xla/stream_executor/cuda/cuda_asm_compiler.cc:393] ptxas warning : Registers are spilled to local memory in function 'gemm_fusion_dot_17630', 12 bytes spill stores, 12 bytes spill loads\n",
      "\n",
      "2024-10-26 16:11:49.202198: I external/local_xla/xla/stream_executor/cuda/cuda_asm_compiler.cc:393] ptxas warning : Registers are spilled to local memory in function 'gemm_fusion_dot_17632', 32 bytes spill stores, 32 bytes spill loads\n",
      "\n",
      "2024-10-26 16:11:49.727334: I external/local_xla/xla/stream_executor/cuda/cuda_asm_compiler.cc:393] ptxas warning : Registers are spilled to local memory in function 'gemm_fusion_dot_17632', 32 bytes spill stores, 32 bytes spill loads\n",
      "\n"
     ]
    },
    {
     "name": "stdout",
     "output_type": "stream",
     "text": [
      "\u001b[1m1758/1758\u001b[0m \u001b[32m━━━━━━━━━━━━━━━━━━━━\u001b[0m\u001b[37m\u001b[0m \u001b[1m451s\u001b[0m 230ms/step - accuracy: 0.7670 - loss: 0.8604 - precision: 0.8528 - recall: 0.7084 - val_accuracy: 0.4909 - val_loss: 2.7336 - val_precision: 0.5394 - val_recall: 0.4649 - learning_rate: 0.0010\n",
      "Epoch 2/20\n",
      "\u001b[1m1758/1758\u001b[0m \u001b[32m━━━━━━━━━━━━━━━━━━━━\u001b[0m\u001b[37m\u001b[0m \u001b[1m369s\u001b[0m 210ms/step - accuracy: 0.9481 - loss: 0.1608 - precision: 0.9570 - recall: 0.9402 - val_accuracy: 0.7254 - val_loss: 1.0443 - val_precision: 0.7704 - val_recall: 0.6964 - learning_rate: 0.0010\n",
      "Epoch 3/20\n",
      "\u001b[1m1758/1758\u001b[0m \u001b[32m━━━━━━━━━━━━━━━━━━━━\u001b[0m\u001b[37m\u001b[0m \u001b[1m369s\u001b[0m 210ms/step - accuracy: 0.9638 - loss: 0.1110 - precision: 0.9695 - recall: 0.9592 - val_accuracy: 0.5415 - val_loss: 2.3096 - val_precision: 0.5810 - val_recall: 0.5162 - learning_rate: 0.0010\n",
      "Epoch 4/20\n",
      "\u001b[1m1758/1758\u001b[0m \u001b[32m━━━━━━━━━━━━━━━━━━━━\u001b[0m\u001b[37m\u001b[0m \u001b[1m368s\u001b[0m 209ms/step - accuracy: 0.9715 - loss: 0.0878 - precision: 0.9749 - recall: 0.9683 - val_accuracy: 0.9105 - val_loss: 0.2891 - val_precision: 0.9263 - val_recall: 0.9013 - learning_rate: 0.0010\n",
      "Epoch 5/20\n",
      "\u001b[1m1758/1758\u001b[0m \u001b[32m━━━━━━━━━━━━━━━━━━━━\u001b[0m\u001b[37m\u001b[0m \u001b[1m367s\u001b[0m 209ms/step - accuracy: 0.9762 - loss: 0.0741 - precision: 0.9783 - recall: 0.9736 - val_accuracy: 0.9004 - val_loss: 0.3746 - val_precision: 0.9093 - val_recall: 0.8938 - learning_rate: 0.0010\n",
      "Epoch 6/20\n",
      "\u001b[1m1758/1758\u001b[0m \u001b[32m━━━━━━━━━━━━━━━━━━━━\u001b[0m\u001b[37m\u001b[0m \u001b[1m367s\u001b[0m 209ms/step - accuracy: 0.9795 - loss: 0.0634 - precision: 0.9813 - recall: 0.9777 - val_accuracy: 0.8642 - val_loss: 0.5411 - val_precision: 0.8804 - val_recall: 0.8548 - learning_rate: 0.0010\n",
      "Epoch 7/20\n",
      "\u001b[1m1758/1758\u001b[0m \u001b[32m━━━━━━━━━━━━━━━━━━━━\u001b[0m\u001b[37m\u001b[0m \u001b[1m382s\u001b[0m 209ms/step - accuracy: 0.9816 - loss: 0.0546 - precision: 0.9836 - recall: 0.9801 - val_accuracy: 0.8845 - val_loss: 0.4199 - val_precision: 0.8975 - val_recall: 0.8763 - learning_rate: 0.0010\n",
      "Epoch 8/20\n",
      "\u001b[1m1758/1758\u001b[0m \u001b[32m━━━━━━━━━━━━━━━━━━━━\u001b[0m\u001b[37m\u001b[0m \u001b[1m368s\u001b[0m 209ms/step - accuracy: 0.9846 - loss: 0.0476 - precision: 0.9859 - recall: 0.9838 - val_accuracy: 0.9024 - val_loss: 0.3526 - val_precision: 0.9120 - val_recall: 0.8956 - learning_rate: 0.0010\n",
      "Epoch 9/20\n",
      "\u001b[1m1758/1758\u001b[0m \u001b[32m━━━━━━━━━━━━━━━━━━━━\u001b[0m\u001b[37m\u001b[0m \u001b[1m368s\u001b[0m 209ms/step - accuracy: 0.9884 - loss: 0.0365 - precision: 0.9894 - recall: 0.9875 - val_accuracy: 0.9351 - val_loss: 0.2203 - val_precision: 0.9408 - val_recall: 0.9301 - learning_rate: 0.0010\n",
      "Epoch 10/20\n",
      "\u001b[1m1758/1758\u001b[0m \u001b[32m━━━━━━━━━━━━━━━━━━━━\u001b[0m\u001b[37m\u001b[0m \u001b[1m368s\u001b[0m 209ms/step - accuracy: 0.9871 - loss: 0.0381 - precision: 0.9880 - recall: 0.9867 - val_accuracy: 0.9405 - val_loss: 0.2242 - val_precision: 0.9458 - val_recall: 0.9367 - learning_rate: 0.0010\n",
      "Epoch 11/20\n",
      "\u001b[1m1758/1758\u001b[0m \u001b[32m━━━━━━━━━━━━━━━━━━━━\u001b[0m\u001b[37m\u001b[0m \u001b[1m369s\u001b[0m 210ms/step - accuracy: 0.9908 - loss: 0.0277 - precision: 0.9915 - recall: 0.9904 - val_accuracy: 0.9314 - val_loss: 0.2996 - val_precision: 0.9359 - val_recall: 0.9277 - learning_rate: 0.0010\n",
      "Epoch 12/20\n",
      "\u001b[1m1758/1758\u001b[0m \u001b[32m━━━━━━━━━━━━━━━━━━━━\u001b[0m\u001b[37m\u001b[0m \u001b[1m368s\u001b[0m 209ms/step - accuracy: 0.9904 - loss: 0.0324 - precision: 0.9911 - recall: 0.9900 - val_accuracy: 0.9744 - val_loss: 0.0887 - val_precision: 0.9766 - val_recall: 0.9733 - learning_rate: 0.0010\n",
      "Epoch 13/20\n",
      "\u001b[1m1758/1758\u001b[0m \u001b[32m━━━━━━━━━━━━━━━━━━━━\u001b[0m\u001b[37m\u001b[0m \u001b[1m368s\u001b[0m 209ms/step - accuracy: 0.9915 - loss: 0.0283 - precision: 0.9919 - recall: 0.9912 - val_accuracy: 0.8870 - val_loss: 0.5317 - val_precision: 0.8943 - val_recall: 0.8823 - learning_rate: 0.0010\n",
      "Epoch 14/20\n",
      "\u001b[1m1758/1758\u001b[0m \u001b[32m━━━━━━━━━━━━━━━━━━━━\u001b[0m\u001b[37m\u001b[0m \u001b[1m367s\u001b[0m 209ms/step - accuracy: 0.9916 - loss: 0.0257 - precision: 0.9922 - recall: 0.9914 - val_accuracy: 0.9538 - val_loss: 0.1553 - val_precision: 0.9576 - val_recall: 0.9516 - learning_rate: 0.0010\n",
      "Epoch 15/20\n",
      "\u001b[1m1758/1758\u001b[0m \u001b[32m━━━━━━━━━━━━━━━━━━━━\u001b[0m\u001b[37m\u001b[0m \u001b[1m367s\u001b[0m 209ms/step - accuracy: 0.9921 - loss: 0.0249 - precision: 0.9928 - recall: 0.9915 - val_accuracy: 0.9830 - val_loss: 0.0558 - val_precision: 0.9838 - val_recall: 0.9824 - learning_rate: 0.0010\n",
      "Epoch 16/20\n",
      "\u001b[1m1758/1758\u001b[0m \u001b[32m━━━━━━━━━━━━━━━━━━━━\u001b[0m\u001b[37m\u001b[0m \u001b[1m367s\u001b[0m 209ms/step - accuracy: 0.9928 - loss: 0.0238 - precision: 0.9932 - recall: 0.9924 - val_accuracy: 0.9383 - val_loss: 0.2734 - val_precision: 0.9425 - val_recall: 0.9367 - learning_rate: 0.0010\n",
      "Epoch 17/20\n",
      "\u001b[1m1758/1758\u001b[0m \u001b[32m━━━━━━━━━━━━━━━━━━━━\u001b[0m\u001b[37m\u001b[0m \u001b[1m367s\u001b[0m 209ms/step - accuracy: 0.9948 - loss: 0.0173 - precision: 0.9952 - recall: 0.9944 - val_accuracy: 0.9468 - val_loss: 0.2444 - val_precision: 0.9497 - val_recall: 0.9454 - learning_rate: 0.0010\n",
      "Epoch 18/20\n",
      "\u001b[1m1758/1758\u001b[0m \u001b[32m━━━━━━━━━━━━━━━━━━━━\u001b[0m\u001b[37m\u001b[0m \u001b[1m368s\u001b[0m 209ms/step - accuracy: 0.9939 - loss: 0.0166 - precision: 0.9944 - recall: 0.9937 - val_accuracy: 0.9832 - val_loss: 0.0619 - val_precision: 0.9841 - val_recall: 0.9823 - learning_rate: 0.0010\n",
      "Epoch 19/20\n",
      "\u001b[1m1758/1758\u001b[0m \u001b[32m━━━━━━━━━━━━━━━━━━━━\u001b[0m\u001b[37m\u001b[0m \u001b[1m367s\u001b[0m 209ms/step - accuracy: 0.9940 - loss: 0.0197 - precision: 0.9943 - recall: 0.9937 - val_accuracy: 0.9419 - val_loss: 0.2341 - val_precision: 0.9445 - val_recall: 0.9401 - learning_rate: 0.0010\n",
      "Epoch 20/20\n",
      "\u001b[1m1758/1758\u001b[0m \u001b[32m━━━━━━━━━━━━━━━━━━━━\u001b[0m\u001b[37m\u001b[0m \u001b[1m367s\u001b[0m 209ms/step - accuracy: 0.9937 - loss: 0.0213 - precision: 0.9940 - recall: 0.9935 - val_accuracy: 0.9839 - val_loss: 0.0587 - val_precision: 0.9844 - val_recall: 0.9833 - learning_rate: 0.0010\n",
      "\u001b[1m438/439\u001b[0m \u001b[32m━━━━━━━━━━━━━━━━━━━\u001b[0m\u001b[37m━\u001b[0m \u001b[1m0s\u001b[0m 60ms/step - accuracy: 0.9809 - loss: 0.0705 - precision: 0.9822 - recall: 0.9798"
     ]
    },
    {
     "name": "stderr",
     "output_type": "stream",
     "text": [
      "2024-10-26 18:12:29.161022: I external/local_xla/xla/stream_executor/cuda/cuda_asm_compiler.cc:393] ptxas warning : Registers are spilled to local memory in function 'gemm_fusion_dot_1746', 28 bytes spill stores, 28 bytes spill loads\n",
      "\n",
      "2024-10-26 18:12:29.237130: I external/local_xla/xla/stream_executor/cuda/cuda_asm_compiler.cc:393] ptxas warning : Registers are spilled to local memory in function 'gemm_fusion_dot_1746', 176 bytes spill stores, 176 bytes spill loads\n",
      "\n"
     ]
    },
    {
     "name": "stdout",
     "output_type": "stream",
     "text": [
      "\u001b[1m439/439\u001b[0m \u001b[32m━━━━━━━━━━━━━━━━━━━━\u001b[0m\u001b[37m\u001b[0m \u001b[1m31s\u001b[0m 71ms/step - accuracy: 0.9809 - loss: 0.0705 - precision: 0.9822 - recall: 0.9798\n",
      "Training EfficientNetB0...\n",
      "Epoch 1/20\n"
     ]
    },
    {
     "name": "stderr",
     "output_type": "stream",
     "text": [
      "2024-10-26 18:13:01.786088: I external/local_xla/xla/stream_executor/cuda/cuda_asm_compiler.cc:393] ptxas warning : Registers are spilled to local memory in function 'gemm_fusion_dot_22070', 8 bytes spill stores, 8 bytes spill loads\n",
      "\n",
      "2024-10-26 18:13:01.977093: I external/local_xla/xla/stream_executor/cuda/cuda_asm_compiler.cc:393] ptxas warning : Registers are spilled to local memory in function 'gemm_fusion_dot_19979', 148 bytes spill stores, 148 bytes spill loads\n",
      "\n",
      "2024-10-26 18:13:02.161246: I external/local_xla/xla/stream_executor/cuda/cuda_asm_compiler.cc:393] ptxas warning : Registers are spilled to local memory in function 'gemm_fusion_dot_22072', 8 bytes spill stores, 8 bytes spill loads\n",
      "\n",
      "2024-10-26 18:13:02.285500: I external/local_xla/xla/stream_executor/cuda/cuda_asm_compiler.cc:393] ptxas warning : Registers are spilled to local memory in function 'gemm_fusion_dot_22072', 32 bytes spill stores, 32 bytes spill loads\n",
      "\n",
      "2024-10-26 18:13:02.634793: I external/local_xla/xla/stream_executor/cuda/cuda_asm_compiler.cc:393] ptxas warning : Registers are spilled to local memory in function 'gemm_fusion_dot_22072', 32 bytes spill stores, 32 bytes spill loads\n",
      "\n",
      "2024-10-26 18:13:02.674603: I external/local_xla/xla/stream_executor/cuda/cuda_asm_compiler.cc:393] ptxas warning : Registers are spilled to local memory in function 'gemm_fusion_dot_22072', 32 bytes spill stores, 32 bytes spill loads\n",
      "\n",
      "E0000 00:00:1729955600.170554    1308 gpu_timer.cc:183] Delay kernel timed out: measured time has sub-optimal accuracy. There may be a missing warmup execution, please investigate in Nsight Systems.\n",
      "E0000 00:00:1729955600.383421    1308 gpu_timer.cc:183] Delay kernel timed out: measured time has sub-optimal accuracy. There may be a missing warmup execution, please investigate in Nsight Systems.\n"
     ]
    },
    {
     "name": "stdout",
     "output_type": "stream",
     "text": [
      "\u001b[1m 754/1758\u001b[0m \u001b[32m━━━━━━━━\u001b[0m\u001b[37m━━━━━━━━━━━━\u001b[0m \u001b[1m1:35\u001b[0m 95ms/step - accuracy: 0.7989 - loss: 0.7896 - precision: 0.8750 - recall: 0.7601"
     ]
    },
    {
     "name": "stderr",
     "output_type": "stream",
     "text": [
      "2024-10-26 18:14:54.212676: I external/local_xla/xla/stream_executor/cuda/cuda_asm_compiler.cc:393] ptxas warning : Registers are spilled to local memory in function 'gemm_fusion_dot_19979', 28 bytes spill stores, 28 bytes spill loads\n",
      "\n",
      "2024-10-26 18:14:54.284217: I external/local_xla/xla/stream_executor/cuda/cuda_asm_compiler.cc:393] ptxas warning : Registers are spilled to local memory in function 'gemm_fusion_dot_22070', 12 bytes spill stores, 12 bytes spill loads\n",
      "\n",
      "2024-10-26 18:14:54.345063: I external/local_xla/xla/stream_executor/cuda/cuda_asm_compiler.cc:393] ptxas warning : Registers are spilled to local memory in function 'gemm_fusion_dot_19979', 172 bytes spill stores, 172 bytes spill loads\n",
      "\n",
      "2024-10-26 18:14:54.694722: I external/local_xla/xla/stream_executor/cuda/cuda_asm_compiler.cc:393] ptxas warning : Registers are spilled to local memory in function 'gemm_fusion_dot_22072', 32 bytes spill stores, 32 bytes spill loads\n",
      "\n",
      "2024-10-26 18:14:54.892309: I external/local_xla/xla/stream_executor/cuda/cuda_asm_compiler.cc:393] ptxas warning : Registers are spilled to local memory in function 'gemm_fusion_dot_22070', 12 bytes spill stores, 12 bytes spill loads\n",
      "\n",
      "2024-10-26 18:14:55.021016: I external/local_xla/xla/stream_executor/cuda/cuda_asm_compiler.cc:393] ptxas warning : Registers are spilled to local memory in function 'gemm_fusion_dot_22072', 32 bytes spill stores, 32 bytes spill loads\n",
      "\n"
     ]
    },
    {
     "name": "stdout",
     "output_type": "stream",
     "text": [
      "\u001b[1m1758/1758\u001b[0m \u001b[32m━━━━━━━━━━━━━━━━━━━━\u001b[0m\u001b[37m\u001b[0m \u001b[1m302s\u001b[0m 136ms/step - accuracy: 0.8667 - loss: 0.5044 - precision: 0.9135 - recall: 0.8421 - val_accuracy: 0.9332 - val_loss: 0.2700 - val_precision: 0.9403 - val_recall: 0.9281 - learning_rate: 0.0010\n",
      "Epoch 2/20\n",
      "\u001b[1m1758/1758\u001b[0m \u001b[32m━━━━━━━━━━━━━━━━━━━━\u001b[0m\u001b[37m\u001b[0m \u001b[1m186s\u001b[0m 106ms/step - accuracy: 0.9700 - loss: 0.0993 - precision: 0.9739 - recall: 0.9666 - val_accuracy: 0.9715 - val_loss: 0.0967 - val_precision: 0.9733 - val_recall: 0.9700 - learning_rate: 0.0010\n",
      "Epoch 3/20\n",
      "\u001b[1m1758/1758\u001b[0m \u001b[32m━━━━━━━━━━━━━━━━━━━━\u001b[0m\u001b[37m\u001b[0m \u001b[1m186s\u001b[0m 106ms/step - accuracy: 0.9770 - loss: 0.0740 - precision: 0.9795 - recall: 0.9753 - val_accuracy: 0.9557 - val_loss: 0.1627 - val_precision: 0.9597 - val_recall: 0.9520 - learning_rate: 0.0010\n",
      "Epoch 4/20\n",
      "\u001b[1m1758/1758\u001b[0m \u001b[32m━━━━━━━━━━━━━━━━━━━━\u001b[0m\u001b[37m\u001b[0m \u001b[1m186s\u001b[0m 106ms/step - accuracy: 0.9765 - loss: 0.0772 - precision: 0.9785 - recall: 0.9740 - val_accuracy: 0.9725 - val_loss: 0.1079 - val_precision: 0.9745 - val_recall: 0.9709 - learning_rate: 0.0010\n",
      "Epoch 5/20\n",
      "\u001b[1m1758/1758\u001b[0m \u001b[32m━━━━━━━━━━━━━━━━━━━━\u001b[0m\u001b[37m\u001b[0m \u001b[1m185s\u001b[0m 105ms/step - accuracy: 0.9821 - loss: 0.0584 - precision: 0.9846 - recall: 0.9806 - val_accuracy: 0.9784 - val_loss: 0.0821 - val_precision: 0.9801 - val_recall: 0.9768 - learning_rate: 0.0010\n",
      "Epoch 6/20\n",
      "\u001b[1m1758/1758\u001b[0m \u001b[32m━━━━━━━━━━━━━━━━━━━━\u001b[0m\u001b[37m\u001b[0m \u001b[1m186s\u001b[0m 105ms/step - accuracy: 0.9851 - loss: 0.0512 - precision: 0.9864 - recall: 0.9839 - val_accuracy: 0.9687 - val_loss: 0.1158 - val_precision: 0.9716 - val_recall: 0.9668 - learning_rate: 0.0010\n",
      "Epoch 7/20\n",
      "\u001b[1m1758/1758\u001b[0m \u001b[32m━━━━━━━━━━━━━━━━━━━━\u001b[0m\u001b[37m\u001b[0m \u001b[1m186s\u001b[0m 106ms/step - accuracy: 0.9855 - loss: 0.0486 - precision: 0.9870 - recall: 0.9844 - val_accuracy: 0.9731 - val_loss: 0.0974 - val_precision: 0.9758 - val_recall: 0.9715 - learning_rate: 0.0010\n",
      "Epoch 8/20\n",
      "\u001b[1m1758/1758\u001b[0m \u001b[32m━━━━━━━━━━━━━━━━━━━━\u001b[0m\u001b[37m\u001b[0m \u001b[1m186s\u001b[0m 106ms/step - accuracy: 0.9881 - loss: 0.0389 - precision: 0.9892 - recall: 0.9872 - val_accuracy: 0.9908 - val_loss: 0.0300 - val_precision: 0.9912 - val_recall: 0.9903 - learning_rate: 0.0010\n",
      "Epoch 9/20\n",
      "\u001b[1m1758/1758\u001b[0m \u001b[32m━━━━━━━━━━━━━━━━━━━━\u001b[0m\u001b[37m\u001b[0m \u001b[1m186s\u001b[0m 106ms/step - accuracy: 0.9893 - loss: 0.0359 - precision: 0.9901 - recall: 0.9887 - val_accuracy: 0.9862 - val_loss: 0.0512 - val_precision: 0.9871 - val_recall: 0.9854 - learning_rate: 0.0010\n",
      "Epoch 10/20\n",
      "\u001b[1m1758/1758\u001b[0m \u001b[32m━━━━━━━━━━━━━━━━━━━━\u001b[0m\u001b[37m\u001b[0m \u001b[1m185s\u001b[0m 105ms/step - accuracy: 0.9892 - loss: 0.0368 - precision: 0.9900 - recall: 0.9886 - val_accuracy: 0.9837 - val_loss: 0.0584 - val_precision: 0.9847 - val_recall: 0.9826 - learning_rate: 0.0010\n",
      "Epoch 11/20\n",
      "\u001b[1m1758/1758\u001b[0m \u001b[32m━━━━━━━━━━━━━━━━━━━━\u001b[0m\u001b[37m\u001b[0m \u001b[1m186s\u001b[0m 106ms/step - accuracy: 0.9891 - loss: 0.0336 - precision: 0.9897 - recall: 0.9886 - val_accuracy: 0.9859 - val_loss: 0.0491 - val_precision: 0.9867 - val_recall: 0.9853 - learning_rate: 0.0010\n",
      "Epoch 12/20\n",
      "\u001b[1m1758/1758\u001b[0m \u001b[32m━━━━━━━━━━━━━━━━━━━━\u001b[0m\u001b[37m\u001b[0m \u001b[1m186s\u001b[0m 106ms/step - accuracy: 0.9917 - loss: 0.0290 - precision: 0.9923 - recall: 0.9912 - val_accuracy: 0.9773 - val_loss: 0.1223 - val_precision: 0.9783 - val_recall: 0.9766 - learning_rate: 0.0010\n",
      "Epoch 13/20\n",
      "\u001b[1m1758/1758\u001b[0m \u001b[32m━━━━━━━━━━━━━━━━━━━━\u001b[0m\u001b[37m\u001b[0m \u001b[1m186s\u001b[0m 106ms/step - accuracy: 0.9908 - loss: 0.0312 - precision: 0.9915 - recall: 0.9902 - val_accuracy: 0.9867 - val_loss: 0.0525 - val_precision: 0.9875 - val_recall: 0.9863 - learning_rate: 0.0010\n",
      "Epoch 14/20\n",
      "\u001b[1m1758/1758\u001b[0m \u001b[32m━━━━━━━━━━━━━━━━━━━━\u001b[0m\u001b[37m\u001b[0m \u001b[1m185s\u001b[0m 105ms/step - accuracy: 0.9968 - loss: 0.0100 - precision: 0.9969 - recall: 0.9966 - val_accuracy: 0.9979 - val_loss: 0.0083 - val_precision: 0.9980 - val_recall: 0.9978 - learning_rate: 2.0000e-04\n",
      "Epoch 15/20\n",
      "\u001b[1m1758/1758\u001b[0m \u001b[32m━━━━━━━━━━━━━━━━━━━━\u001b[0m\u001b[37m\u001b[0m \u001b[1m186s\u001b[0m 106ms/step - accuracy: 0.9988 - loss: 0.0044 - precision: 0.9989 - recall: 0.9987 - val_accuracy: 0.9986 - val_loss: 0.0060 - val_precision: 0.9986 - val_recall: 0.9986 - learning_rate: 2.0000e-04\n",
      "Epoch 16/20\n",
      "\u001b[1m1758/1758\u001b[0m \u001b[32m━━━━━━━━━━━━━━━━━━━━\u001b[0m\u001b[37m\u001b[0m \u001b[1m186s\u001b[0m 106ms/step - accuracy: 0.9992 - loss: 0.0025 - precision: 0.9992 - recall: 0.9991 - val_accuracy: 0.9979 - val_loss: 0.0085 - val_precision: 0.9980 - val_recall: 0.9978 - learning_rate: 2.0000e-04\n",
      "Epoch 17/20\n",
      "\u001b[1m1758/1758\u001b[0m \u001b[32m━━━━━━━━━━━━━━━━━━━━\u001b[0m\u001b[37m\u001b[0m \u001b[1m186s\u001b[0m 106ms/step - accuracy: 0.9992 - loss: 0.0022 - precision: 0.9992 - recall: 0.9991 - val_accuracy: 0.9981 - val_loss: 0.0087 - val_precision: 0.9981 - val_recall: 0.9980 - learning_rate: 2.0000e-04\n",
      "Epoch 18/20\n",
      "\u001b[1m1758/1758\u001b[0m \u001b[32m━━━━━━━━━━━━━━━━━━━━\u001b[0m\u001b[37m\u001b[0m \u001b[1m186s\u001b[0m 105ms/step - accuracy: 0.9992 - loss: 0.0023 - precision: 0.9993 - recall: 0.9992 - val_accuracy: 0.9977 - val_loss: 0.0106 - val_precision: 0.9978 - val_recall: 0.9976 - learning_rate: 2.0000e-04\n",
      "Epoch 19/20\n",
      "\u001b[1m1758/1758\u001b[0m \u001b[32m━━━━━━━━━━━━━━━━━━━━\u001b[0m\u001b[37m\u001b[0m \u001b[1m185s\u001b[0m 105ms/step - accuracy: 0.9995 - loss: 0.0015 - precision: 0.9995 - recall: 0.9995 - val_accuracy: 0.9970 - val_loss: 0.0131 - val_precision: 0.9971 - val_recall: 0.9970 - learning_rate: 2.0000e-04\n",
      "Epoch 20/20\n",
      "\u001b[1m1758/1758\u001b[0m \u001b[32m━━━━━━━━━━━━━━━━━━━━\u001b[0m\u001b[37m\u001b[0m \u001b[1m186s\u001b[0m 105ms/step - accuracy: 0.9996 - loss: 0.0014 - precision: 0.9996 - recall: 0.9996 - val_accuracy: 0.9988 - val_loss: 0.0054 - val_precision: 0.9989 - val_recall: 0.9988 - learning_rate: 2.0000e-04\n",
      "\u001b[1m437/439\u001b[0m \u001b[32m━━━━━━━━━━━━━━━━━━━\u001b[0m\u001b[37m━\u001b[0m \u001b[1m0s\u001b[0m 37ms/step - accuracy: 0.9962 - loss: 0.0115 - precision: 0.9963 - recall: 0.9962"
     ]
    },
    {
     "name": "stderr",
     "output_type": "stream",
     "text": [
      "2024-10-26 19:16:45.603089: I external/local_xla/xla/stream_executor/cuda/cuda_asm_compiler.cc:393] ptxas warning : Registers are spilled to local memory in function 'gemm_fusion_dot_2098', 28 bytes spill stores, 28 bytes spill loads\n",
      "\n",
      "2024-10-26 19:16:45.678005: I external/local_xla/xla/stream_executor/cuda/cuda_asm_compiler.cc:393] ptxas warning : Registers are spilled to local memory in function 'gemm_fusion_dot_2098', 156 bytes spill stores, 156 bytes spill loads\n",
      "\n"
     ]
    },
    {
     "name": "stdout",
     "output_type": "stream",
     "text": [
      "\u001b[1m439/439\u001b[0m \u001b[32m━━━━━━━━━━━━━━━━━━━━\u001b[0m\u001b[37m\u001b[0m \u001b[1m26s\u001b[0m 58ms/step - accuracy: 0.9962 - loss: 0.0115 - precision: 0.9963 - recall: 0.9962\n",
      "Training MobileNetV2...\n",
      "Epoch 1/20\n",
      "\u001b[1m1758/1758\u001b[0m \u001b[32m━━━━━━━━━━━━━━━━━━━━\u001b[0m\u001b[37m\u001b[0m \u001b[1m214s\u001b[0m 102ms/step - accuracy: 0.8152 - loss: 0.6602 - precision: 0.8754 - recall: 0.7762 - val_accuracy: 0.4462 - val_loss: 4.3426 - val_precision: 0.4607 - val_recall: 0.4372 - learning_rate: 0.0010\n",
      "Epoch 2/20\n",
      "\u001b[1m1758/1758\u001b[0m \u001b[32m━━━━━━━━━━━━━━━━━━━━\u001b[0m\u001b[37m\u001b[0m \u001b[1m158s\u001b[0m 90ms/step - accuracy: 0.9493 - loss: 0.1630 - precision: 0.9581 - recall: 0.9428 - val_accuracy: 0.3108 - val_loss: 7.2092 - val_precision: 0.3182 - val_recall: 0.3051 - learning_rate: 0.0010\n",
      "Epoch 3/20\n",
      "\u001b[1m1758/1758\u001b[0m \u001b[32m━━━━━━━━━━━━━━━━━━━━\u001b[0m\u001b[37m\u001b[0m \u001b[1m156s\u001b[0m 89ms/step - accuracy: 0.9612 - loss: 0.1235 - precision: 0.9664 - recall: 0.9571 - val_accuracy: 0.3335 - val_loss: 7.7118 - val_precision: 0.3388 - val_recall: 0.3266 - learning_rate: 0.0010\n",
      "Epoch 4/20\n",
      "\u001b[1m1758/1758\u001b[0m \u001b[32m━━━━━━━━━━━━━━━━━━━━\u001b[0m\u001b[37m\u001b[0m \u001b[1m158s\u001b[0m 90ms/step - accuracy: 0.9669 - loss: 0.1073 - precision: 0.9716 - recall: 0.9638 - val_accuracy: 0.3433 - val_loss: 6.7492 - val_precision: 0.3497 - val_recall: 0.3379 - learning_rate: 0.0010\n",
      "Epoch 5/20\n",
      "\u001b[1m1758/1758\u001b[0m \u001b[32m━━━━━━━━━━━━━━━━━━━━\u001b[0m\u001b[37m\u001b[0m \u001b[1m158s\u001b[0m 90ms/step - accuracy: 0.9734 - loss: 0.0837 - precision: 0.9771 - recall: 0.9710 - val_accuracy: 0.3650 - val_loss: 6.6892 - val_precision: 0.3694 - val_recall: 0.3597 - learning_rate: 0.0010\n",
      "Epoch 6/20\n",
      "\u001b[1m1758/1758\u001b[0m \u001b[32m━━━━━━━━━━━━━━━━━━━━\u001b[0m\u001b[37m\u001b[0m \u001b[1m158s\u001b[0m 90ms/step - accuracy: 0.9752 - loss: 0.0762 - precision: 0.9780 - recall: 0.9723 - val_accuracy: 0.8229 - val_loss: 1.0444 - val_precision: 0.8354 - val_recall: 0.8168 - learning_rate: 0.0010\n",
      "Epoch 7/20\n",
      "\u001b[1m1758/1758\u001b[0m \u001b[32m━━━━━━━━━━━━━━━━━━━━\u001b[0m\u001b[37m\u001b[0m \u001b[1m157s\u001b[0m 89ms/step - accuracy: 0.9773 - loss: 0.0732 - precision: 0.9797 - recall: 0.9756 - val_accuracy: 0.8831 - val_loss: 0.5237 - val_precision: 0.8905 - val_recall: 0.8784 - learning_rate: 0.0010\n",
      "Epoch 8/20\n",
      "\u001b[1m1758/1758\u001b[0m \u001b[32m━━━━━━━━━━━━━━━━━━━━\u001b[0m\u001b[37m\u001b[0m \u001b[1m157s\u001b[0m 89ms/step - accuracy: 0.9825 - loss: 0.0539 - precision: 0.9842 - recall: 0.9814 - val_accuracy: 0.7658 - val_loss: 1.3544 - val_precision: 0.7772 - val_recall: 0.7598 - learning_rate: 0.0010\n",
      "Epoch 9/20\n",
      "\u001b[1m1758/1758\u001b[0m \u001b[32m━━━━━━━━━━━━━━━━━━━━\u001b[0m\u001b[37m\u001b[0m \u001b[1m158s\u001b[0m 90ms/step - accuracy: 0.9807 - loss: 0.0612 - precision: 0.9825 - recall: 0.9792 - val_accuracy: 0.9279 - val_loss: 0.2836 - val_precision: 0.9342 - val_recall: 0.9251 - learning_rate: 0.0010\n",
      "Epoch 10/20\n",
      "\u001b[1m1758/1758\u001b[0m \u001b[32m━━━━━━━━━━━━━━━━━━━━\u001b[0m\u001b[37m\u001b[0m \u001b[1m157s\u001b[0m 89ms/step - accuracy: 0.9865 - loss: 0.0418 - precision: 0.9878 - recall: 0.9856 - val_accuracy: 0.7897 - val_loss: 1.2174 - val_precision: 0.7977 - val_recall: 0.7858 - learning_rate: 0.0010\n",
      "\u001b[1m439/439\u001b[0m \u001b[32m━━━━━━━━━━━━━━━━━━━━\u001b[0m\u001b[37m\u001b[0m \u001b[1m21s\u001b[0m 49ms/step - accuracy: 0.4326 - loss: 4.4445 - precision: 0.4476 - recall: 0.4250\n"
     ]
    }
   ],
   "source": [
    "models = {\n",
    "    #'Simple CNN': create_simple_cnn(),\n",
    "    'ResNet50': create_resnet50(),\n",
    "    'EfficientNetB0': create_efficientnet(),\n",
    "    'MobileNetV2': create_mobilenet()\n",
    "}\n",
    "\n",
    "results = []\n",
    "for name, model in models.items():\n",
    "    print(f\"Training {name}...\")\n",
    "    result = train_and_evaluate_model(model, name)\n",
    "    results.append(result)\n",
    "    # save model\n",
    "    model.save(f'{name}.keras')"
   ]
  },
  {
   "cell_type": "code",
   "execution_count": 7,
   "metadata": {},
   "outputs": [
    {
     "name": "stdout",
     "output_type": "stream",
     "text": [
      "\n",
      "Results Table:\n",
      "Model | Train Acc | Test Acc | Train Precision | Test Precision | Train Recall | Test Recall\n",
      "-------------------------------------------------------------------------------------\n",
      "ResNet50 | 0.994 | 0.980 | 0.994 | 0.981 | 0.994 | 0.979\n",
      "EfficientNetB0 | 1.000 | 0.997 | 1.000 | 0.997 | 1.000 | 0.997\n",
      "MobileNetV2 | 0.985 | 0.435 | 0.987 | 0.450 | 0.984 | 0.428\n"
     ]
    }
   ],
   "source": [
    "print(\"\\nResults Table:\")\n",
    "print(\"Model | Train Acc | Test Acc | Train Precision | Test Precision | Train Recall | Test Recall\")\n",
    "print(\"-\" * 85)\n",
    "for r in results:\n",
    "    print(f\"{r['model']} | {r['train_acc']:.3f} | {r['test_acc']:.3f} | {r['train_precision']:.3f} | {r['test_precision']:.3f} | {r['train_recall']:.3f} | {r['test_recall']:.3f}\")"
   ]
  },
  {
   "cell_type": "code",
   "execution_count": 12,
   "metadata": {},
   "outputs": [
    {
     "name": "stdout",
     "output_type": "stream",
     "text": [
      "\n",
      "Results Table:\n",
      "Model | Train Acc | Test Acc | Train Precision | Test Precision | Train Recall | Test Recall\n",
      "-------------------------------------------------------------------------------------\n",
      "Simple CNN | 0.999 | 0.974 | 0.999 | 0.975 | 0.999 | 0.973\n"
     ]
    }
   ],
   "source": [
    "\"\"\"\"\n",
    "the session is closed after the first model was trained, so there is the result of cnn\n",
    "\"\"\"\n",
    "\n",
    "# print(\"\\nResults Table:\")\n",
    "# print(\"Model | Train Acc | Test Acc | Train Precision | Test Precision | Train Recall | Test Recall\")\n",
    "# print(\"-\" * 85)\n",
    "# for r in results:\n",
    "#     print(f\"{r['model']} | {r['train_acc']:.3f} | {r['test_acc']:.3f} | {r['train_precision']:.3f} | {r['test_precision']:.3f} | {r['train_recall']:.3f} | {r['test_recall']:.3f}\")"
   ]
  },
  {
   "cell_type": "code",
   "execution_count": 5,
   "metadata": {},
   "outputs": [
    {
     "name": "stderr",
     "output_type": "stream",
     "text": [
      "WARNING: All log messages before absl::InitializeLog() is called are written to STDERR\n",
      "I0000 00:00:1729978334.855435    7505 cuda_executor.cc:1001] could not open file to read NUMA node: /sys/bus/pci/devices/0000:01:00.0/numa_node\n",
      "Your kernel may have been built without NUMA support.\n",
      "I0000 00:00:1729978334.992396    7505 cuda_executor.cc:1001] could not open file to read NUMA node: /sys/bus/pci/devices/0000:01:00.0/numa_node\n",
      "Your kernel may have been built without NUMA support.\n",
      "I0000 00:00:1729978334.993307    7505 cuda_executor.cc:1001] could not open file to read NUMA node: /sys/bus/pci/devices/0000:01:00.0/numa_node\n",
      "Your kernel may have been built without NUMA support.\n",
      "I0000 00:00:1729978334.996689    7505 cuda_executor.cc:1001] could not open file to read NUMA node: /sys/bus/pci/devices/0000:01:00.0/numa_node\n",
      "Your kernel may have been built without NUMA support.\n",
      "I0000 00:00:1729978334.997552    7505 cuda_executor.cc:1001] could not open file to read NUMA node: /sys/bus/pci/devices/0000:01:00.0/numa_node\n",
      "Your kernel may have been built without NUMA support.\n",
      "I0000 00:00:1729978334.998204    7505 cuda_executor.cc:1001] could not open file to read NUMA node: /sys/bus/pci/devices/0000:01:00.0/numa_node\n",
      "Your kernel may have been built without NUMA support.\n",
      "I0000 00:00:1729978335.178261    7505 cuda_executor.cc:1001] could not open file to read NUMA node: /sys/bus/pci/devices/0000:01:00.0/numa_node\n",
      "Your kernel may have been built without NUMA support.\n",
      "I0000 00:00:1729978335.178730    7505 cuda_executor.cc:1001] could not open file to read NUMA node: /sys/bus/pci/devices/0000:01:00.0/numa_node\n",
      "Your kernel may have been built without NUMA support.\n",
      "2024-10-27 00:32:15.178746: I tensorflow/core/common_runtime/gpu/gpu_device.cc:2112] Could not identify NUMA node of platform GPU id 0, defaulting to 0.  Your kernel may not have been built with NUMA support.\n",
      "I0000 00:00:1729978335.179007    7505 cuda_executor.cc:1001] could not open file to read NUMA node: /sys/bus/pci/devices/0000:01:00.0/numa_node\n",
      "Your kernel may have been built without NUMA support.\n",
      "2024-10-27 00:32:15.179062: I tensorflow/core/common_runtime/gpu/gpu_device.cc:2021] Created device /job:localhost/replica:0/task:0/device:GPU:0 with 3586 MB memory:  -> device: 0, name: NVIDIA GeForce RTX 3060 Laptop GPU, pci bus id: 0000:01:00.0, compute capability: 8.6\n"
     ]
    },
    {
     "name": "stdout",
     "output_type": "stream",
     "text": [
      "Downloading data from https://storage.googleapis.com/tensorflow/keras-applications/densenet/densenet121_weights_tf_dim_ordering_tf_kernels_notop.h5\n",
      "\u001b[1m29084464/29084464\u001b[0m \u001b[32m━━━━━━━━━━━━━━━━━━━━\u001b[0m\u001b[37m\u001b[0m \u001b[1m14s\u001b[0m 0us/step\n"
     ]
    }
   ],
   "source": [
    "# train densenet21 model\n",
    "\n",
    "from tensorflow.keras.applications import DenseNet121\n",
    "from tensorflow.keras.applications.densenet import preprocess_input\n",
    "\n",
    "def create_densenet121():\n",
    "    base_model = DenseNet121(weights='imagenet', include_top=False, input_shape=(img_height, img_width, 3))\n",
    "    x = base_model.output\n",
    "    x = GlobalAveragePooling2D()(x)\n",
    "    x = Dense(512, activation='relu')(x)\n",
    "    x = BatchNormalization()(x)\n",
    "    x = Dropout(0.5)(x)\n",
    "    predictions = Dense(num_classes, activation='softmax')(x)\n",
    "    model = Model(inputs=base_model.input, outputs=predictions)\n",
    "    return model\n",
    "\n",
    "densenet121 = create_densenet121()\n",
    "densenet121.compile(\n",
    "    optimizer='adam',\n",
    "    loss='categorical_crossentropy',\n",
    "    metrics=['accuracy',\n",
    "            tf.keras.metrics.Precision(name='precision'),\n",
    "            tf.keras.metrics.Recall(name='recall')]\n",
    ")"
   ]
  },
  {
   "cell_type": "code",
   "execution_count": 7,
   "metadata": {},
   "outputs": [
    {
     "name": "stdout",
     "output_type": "stream",
     "text": [
      "Training DenseNet121...\n",
      "Epoch 1/20\n"
     ]
    },
    {
     "name": "stderr",
     "output_type": "stream",
     "text": [
      "/home/ziad/miniconda3/envs/tf-gpu/lib/python3.11/site-packages/keras/src/trainers/data_adapters/py_dataset_adapter.py:122: UserWarning: Your `PyDataset` class should call `super().__init__(**kwargs)` in its constructor. `**kwargs` can include `workers`, `use_multiprocessing`, `max_queue_size`. Do not pass these arguments to `fit()`, as they will be ignored.\n",
      "  self._warn_if_super_not_called()\n",
      "WARNING: All log messages before absl::InitializeLog() is called are written to STDERR\n",
      "I0000 00:00:1729978944.968185    8035 service.cc:146] XLA service 0x7fd5d0004af0 initialized for platform CUDA (this does not guarantee that XLA will be used). Devices:\n",
      "I0000 00:00:1729978944.969266    8035 service.cc:154]   StreamExecutor device (0): NVIDIA GeForce RTX 3060 Laptop GPU, Compute Capability 8.6\n",
      "2024-10-27 00:42:26.167482: I tensorflow/compiler/mlir/tensorflow/utils/dump_mlir_util.cc:268] disabling MLIR crash reproducer, set env var `MLIR_CRASH_REPRODUCER_DIRECTORY` to enable.\n",
      "2024-10-27 00:42:31.075429: I external/local_xla/xla/stream_executor/cuda/cuda_dnn.cc:531] Loaded cuDNN version 8907\n",
      "2024-10-27 00:42:36.708208: I external/local_xla/xla/stream_executor/cuda/cuda_asm_compiler.cc:393] ptxas warning : Registers are spilled to local memory in function 'gemm_fusion_dot_31163', 140 bytes spill stores, 140 bytes spill loads\n",
      "\n",
      "2024-10-27 00:42:36.730744: I external/local_xla/xla/stream_executor/cuda/cuda_asm_compiler.cc:393] ptxas warning : Registers are spilled to local memory in function 'gemm_fusion_dot_36120', 32 bytes spill stores, 32 bytes spill loads\n",
      "\n",
      "2024-10-27 00:42:37.301077: I external/local_xla/xla/stream_executor/cuda/cuda_asm_compiler.cc:393] ptxas warning : Registers are spilled to local memory in function 'gemm_fusion_dot_36120', 32 bytes spill stores, 32 bytes spill loads\n",
      "\n",
      "2024-10-27 00:42:37.474312: I external/local_xla/xla/stream_executor/cuda/cuda_asm_compiler.cc:393] ptxas warning : Registers are spilled to local memory in function 'gemm_fusion_dot_36120', 32 bytes spill stores, 32 bytes spill loads\n",
      "\n",
      "2024-10-27 00:42:37.501209: I external/local_xla/xla/stream_executor/cuda/cuda_asm_compiler.cc:393] ptxas warning : Registers are spilled to local memory in function 'gemm_fusion_dot_36120', 8 bytes spill stores, 8 bytes spill loads\n",
      "\n",
      "2024-10-27 00:42:37.809480: I external/local_xla/xla/stream_executor/cuda/cuda_asm_compiler.cc:393] ptxas warning : Registers are spilled to local memory in function 'gemm_fusion_dot_36118', 8 bytes spill stores, 8 bytes spill loads\n",
      "\n",
      "2024-10-27 00:43:54.516834: I external/local_xla/xla/stream_executor/cuda/cuda_asm_compiler.cc:393] ptxas warning : Registers are spilled to local memory in function 'input_compare_reduce_fusion_32', 4 bytes spill stores, 4 bytes spill loads\n",
      "ptxas warning : Registers are spilled to local memory in function 'input_compare_reduce_fusion_3', 8 bytes spill stores, 8 bytes spill loads\n",
      "\n",
      "I0000 00:00:1729979034.946060    8035 device_compiler.h:188] Compiled cluster using XLA!  This line is logged at most once for the lifetime of the process.\n"
     ]
    },
    {
     "name": "stdout",
     "output_type": "stream",
     "text": [
      "\u001b[1m 109/1758\u001b[0m \u001b[32m━\u001b[0m\u001b[37m━━━━━━━━━━━━━━━━━━━\u001b[0m \u001b[1m5:21\u001b[0m 195ms/step - accuracy: 0.4259 - loss: 2.3008 - precision: 0.6367 - recall: 0.3052"
     ]
    },
    {
     "name": "stderr",
     "output_type": "stream",
     "text": [
      "2024-10-27 00:44:24.398738: I external/local_xla/xla/stream_executor/cuda/cuda_asm_compiler.cc:393] ptxas warning : Registers are spilled to local memory in function 'gemm_fusion_dot_36118', 12 bytes spill stores, 12 bytes spill loads\n",
      "\n",
      "2024-10-27 00:44:24.540462: I external/local_xla/xla/stream_executor/cuda/cuda_asm_compiler.cc:393] ptxas warning : Registers are spilled to local memory in function 'gemm_fusion_dot_36118', 12 bytes spill stores, 12 bytes spill loads\n",
      "\n",
      "2024-10-27 00:44:24.952064: I external/local_xla/xla/stream_executor/cuda/cuda_asm_compiler.cc:393] ptxas warning : Registers are spilled to local memory in function 'gemm_fusion_dot_36120', 32 bytes spill stores, 32 bytes spill loads\n",
      "\n",
      "2024-10-27 00:44:25.602598: I external/local_xla/xla/stream_executor/cuda/cuda_asm_compiler.cc:393] ptxas warning : Registers are spilled to local memory in function 'gemm_fusion_dot_36120', 32 bytes spill stores, 32 bytes spill loads\n",
      "\n",
      "2024-10-27 00:44:25.789094: I external/local_xla/xla/stream_executor/cuda/cuda_asm_compiler.cc:393] ptxas warning : Registers are spilled to local memory in function 'gemm_fusion_dot_31163', 172 bytes spill stores, 172 bytes spill loads\n",
      "\n",
      "2024-10-27 00:45:44.322232: I external/local_xla/xla/stream_executor/cuda/cuda_asm_compiler.cc:393] ptxas warning : Registers are spilled to local memory in function 'input_compare_reduce_fusion_64', 8 bytes spill stores, 8 bytes spill loads\n",
      "\n"
     ]
    },
    {
     "name": "stdout",
     "output_type": "stream",
     "text": [
      "\u001b[1m1758/1758\u001b[0m \u001b[32m━━━━━━━━━━━━━━━━━━━━\u001b[0m\u001b[37m\u001b[0m \u001b[1m605s\u001b[0m 274ms/step - accuracy: 0.8252 - loss: 0.6245 - precision: 0.8913 - recall: 0.7834 - val_accuracy: 0.8787 - val_loss: 0.4277 - val_precision: 0.8930 - val_recall: 0.8698 - learning_rate: 0.0010\n",
      "Epoch 2/20\n",
      "\u001b[1m1758/1758\u001b[0m \u001b[32m━━━━━━━━━━━━━━━━━━━━\u001b[0m\u001b[37m\u001b[0m \u001b[1m369s\u001b[0m 210ms/step - accuracy: 0.9608 - loss: 0.1262 - precision: 0.9672 - recall: 0.9551 - val_accuracy: 0.8079 - val_loss: 0.8056 - val_precision: 0.8317 - val_recall: 0.7933 - learning_rate: 0.0010\n",
      "Epoch 3/20\n",
      "\u001b[1m1758/1758\u001b[0m \u001b[32m━━━━━━━━━━━━━━━━━━━━\u001b[0m\u001b[37m\u001b[0m \u001b[1m384s\u001b[0m 218ms/step - accuracy: 0.9704 - loss: 0.0932 - precision: 0.9747 - recall: 0.9676 - val_accuracy: 0.9067 - val_loss: 0.3216 - val_precision: 0.9136 - val_recall: 0.9014 - learning_rate: 0.0010\n",
      "Epoch 4/20\n",
      "\u001b[1m1758/1758\u001b[0m \u001b[32m━━━━━━━━━━━━━━━━━━━━\u001b[0m\u001b[37m\u001b[0m \u001b[1m383s\u001b[0m 218ms/step - accuracy: 0.9751 - loss: 0.0772 - precision: 0.9787 - recall: 0.9727 - val_accuracy: 0.9643 - val_loss: 0.1264 - val_precision: 0.9673 - val_recall: 0.9620 - learning_rate: 0.0010\n",
      "Epoch 5/20\n",
      "\u001b[1m1758/1758\u001b[0m \u001b[32m━━━━━━━━━━━━━━━━━━━━\u001b[0m\u001b[37m\u001b[0m \u001b[1m374s\u001b[0m 213ms/step - accuracy: 0.9802 - loss: 0.0601 - precision: 0.9826 - recall: 0.9784 - val_accuracy: 0.9582 - val_loss: 0.1374 - val_precision: 0.9621 - val_recall: 0.9555 - learning_rate: 0.0010\n",
      "Epoch 6/20\n",
      "\u001b[1m1758/1758\u001b[0m \u001b[32m━━━━━━━━━━━━━━━━━━━━\u001b[0m\u001b[37m\u001b[0m \u001b[1m372s\u001b[0m 211ms/step - accuracy: 0.9826 - loss: 0.0550 - precision: 0.9845 - recall: 0.9809 - val_accuracy: 0.9019 - val_loss: 0.3480 - val_precision: 0.9111 - val_recall: 0.8961 - learning_rate: 0.0010\n",
      "Epoch 7/20\n",
      "\u001b[1m1758/1758\u001b[0m \u001b[32m━━━━━━━━━━━━━━━━━━━━\u001b[0m\u001b[37m\u001b[0m \u001b[1m374s\u001b[0m 212ms/step - accuracy: 0.9830 - loss: 0.0513 - precision: 0.9843 - recall: 0.9817 - val_accuracy: 0.9844 - val_loss: 0.0505 - val_precision: 0.9864 - val_recall: 0.9834 - learning_rate: 0.0010\n",
      "Epoch 8/20\n",
      "\u001b[1m1758/1758\u001b[0m \u001b[32m━━━━━━━━━━━━━━━━━━━━\u001b[0m\u001b[37m\u001b[0m \u001b[1m370s\u001b[0m 210ms/step - accuracy: 0.9862 - loss: 0.0413 - precision: 0.9876 - recall: 0.9852 - val_accuracy: 0.9099 - val_loss: 0.3456 - val_precision: 0.9196 - val_recall: 0.9052 - learning_rate: 0.0010\n",
      "Epoch 9/20\n",
      "\u001b[1m1758/1758\u001b[0m \u001b[32m━━━━━━━━━━━━━━━━━━━━\u001b[0m\u001b[37m\u001b[0m \u001b[1m383s\u001b[0m 211ms/step - accuracy: 0.9894 - loss: 0.0334 - precision: 0.9903 - recall: 0.9885 - val_accuracy: 0.9873 - val_loss: 0.0417 - val_precision: 0.9881 - val_recall: 0.9869 - learning_rate: 0.0010\n",
      "Epoch 10/20\n",
      "\u001b[1m1758/1758\u001b[0m \u001b[32m━━━━━━━━━━━━━━━━━━━━\u001b[0m\u001b[37m\u001b[0m \u001b[1m378s\u001b[0m 215ms/step - accuracy: 0.9900 - loss: 0.0320 - precision: 0.9906 - recall: 0.9895 - val_accuracy: 0.9349 - val_loss: 0.2218 - val_precision: 0.9407 - val_recall: 0.9307 - learning_rate: 0.0010\n",
      "Epoch 11/20\n",
      "\u001b[1m1758/1758\u001b[0m \u001b[32m━━━━━━━━━━━━━━━━━━━━\u001b[0m\u001b[37m\u001b[0m \u001b[1m369s\u001b[0m 210ms/step - accuracy: 0.9901 - loss: 0.0313 - precision: 0.9907 - recall: 0.9892 - val_accuracy: 0.9933 - val_loss: 0.0211 - val_precision: 0.9937 - val_recall: 0.9931 - learning_rate: 0.0010\n",
      "Epoch 12/20\n",
      "\u001b[1m1758/1758\u001b[0m \u001b[32m━━━━━━━━━━━━━━━━━━━━\u001b[0m\u001b[37m\u001b[0m \u001b[1m371s\u001b[0m 211ms/step - accuracy: 0.9897 - loss: 0.0303 - precision: 0.9905 - recall: 0.9894 - val_accuracy: 0.9731 - val_loss: 0.0933 - val_precision: 0.9747 - val_recall: 0.9716 - learning_rate: 0.0010\n",
      "Epoch 13/20\n",
      "\u001b[1m1758/1758\u001b[0m \u001b[32m━━━━━━━━━━━━━━━━━━━━\u001b[0m\u001b[37m\u001b[0m \u001b[1m365s\u001b[0m 208ms/step - accuracy: 0.9925 - loss: 0.0238 - precision: 0.9931 - recall: 0.9919 - val_accuracy: 0.9685 - val_loss: 0.1263 - val_precision: 0.9695 - val_recall: 0.9672 - learning_rate: 0.0010\n",
      "Epoch 14/20\n",
      "\u001b[1m1758/1758\u001b[0m \u001b[32m━━━━━━━━━━━━━━━━━━━━\u001b[0m\u001b[37m\u001b[0m \u001b[1m365s\u001b[0m 208ms/step - accuracy: 0.9914 - loss: 0.0265 - precision: 0.9919 - recall: 0.9910 - val_accuracy: 0.9693 - val_loss: 0.1013 - val_precision: 0.9716 - val_recall: 0.9682 - learning_rate: 0.0010\n",
      "Epoch 15/20\n",
      "\u001b[1m1758/1758\u001b[0m \u001b[32m━━━━━━━━━━━━━━━━━━━━\u001b[0m\u001b[37m\u001b[0m \u001b[1m370s\u001b[0m 211ms/step - accuracy: 0.9921 - loss: 0.0237 - precision: 0.9927 - recall: 0.9918 - val_accuracy: 0.9870 - val_loss: 0.0408 - val_precision: 0.9876 - val_recall: 0.9862 - learning_rate: 0.0010\n",
      "Epoch 16/20\n",
      "\u001b[1m1758/1758\u001b[0m \u001b[32m━━━━━━━━━━━━━━━━━━━━\u001b[0m\u001b[37m\u001b[0m \u001b[1m389s\u001b[0m 221ms/step - accuracy: 0.9913 - loss: 0.0270 - precision: 0.9918 - recall: 0.9911 - val_accuracy: 0.9566 - val_loss: 0.1589 - val_precision: 0.9587 - val_recall: 0.9549 - learning_rate: 0.0010\n",
      "Epoch 17/20\n",
      "\u001b[1m1758/1758\u001b[0m \u001b[32m━━━━━━━━━━━━━━━━━━━━\u001b[0m\u001b[37m\u001b[0m \u001b[1m370s\u001b[0m 210ms/step - accuracy: 0.9978 - loss: 0.0068 - precision: 0.9980 - recall: 0.9977 - val_accuracy: 0.9978 - val_loss: 0.0086 - val_precision: 0.9978 - val_recall: 0.9978 - learning_rate: 2.0000e-04\n",
      "Epoch 18/20\n",
      "\u001b[1m1758/1758\u001b[0m \u001b[32m━━━━━━━━━━━━━━━━━━━━\u001b[0m\u001b[37m\u001b[0m \u001b[1m374s\u001b[0m 212ms/step - accuracy: 0.9991 - loss: 0.0023 - precision: 0.9992 - recall: 0.9991 - val_accuracy: 0.9979 - val_loss: 0.0071 - val_precision: 0.9980 - val_recall: 0.9979 - learning_rate: 2.0000e-04\n",
      "Epoch 19/20\n",
      "\u001b[1m1758/1758\u001b[0m \u001b[32m━━━━━━━━━━━━━━━━━━━━\u001b[0m\u001b[37m\u001b[0m \u001b[1m393s\u001b[0m 223ms/step - accuracy: 0.9991 - loss: 0.0026 - precision: 0.9992 - recall: 0.9991 - val_accuracy: 0.9977 - val_loss: 0.0092 - val_precision: 0.9978 - val_recall: 0.9977 - learning_rate: 2.0000e-04\n",
      "Epoch 20/20\n",
      "\u001b[1m1758/1758\u001b[0m \u001b[32m━━━━━━━━━━━━━━━━━━━━\u001b[0m\u001b[37m\u001b[0m \u001b[1m393s\u001b[0m 223ms/step - accuracy: 0.9995 - loss: 0.0018 - precision: 0.9995 - recall: 0.9994 - val_accuracy: 0.9978 - val_loss: 0.0095 - val_precision: 0.9978 - val_recall: 0.9977 - learning_rate: 2.0000e-04\n",
      "\u001b[1m438/439\u001b[0m \u001b[32m━━━━━━━━━━━━━━━━━━━\u001b[0m\u001b[37m━\u001b[0m \u001b[1m0s\u001b[0m 59ms/step - accuracy: 0.9953 - loss: 0.0154 - precision: 0.9954 - recall: 0.9949"
     ]
    },
    {
     "name": "stderr",
     "output_type": "stream",
     "text": [
      "2024-10-27 02:51:33.315375: I external/local_xla/xla/stream_executor/cuda/cuda_asm_compiler.cc:393] ptxas warning : Registers are spilled to local memory in function 'gemm_fusion_dot_3340', 172 bytes spill stores, 172 bytes spill loads\n",
      "\n"
     ]
    },
    {
     "name": "stdout",
     "output_type": "stream",
     "text": [
      "\u001b[1m439/439\u001b[0m \u001b[32m━━━━━━━━━━━━━━━━━━━━\u001b[0m\u001b[37m\u001b[0m \u001b[1m46s\u001b[0m 104ms/step - accuracy: 0.9953 - loss: 0.0154 - precision: 0.9954 - recall: 0.9949\n"
     ]
    }
   ],
   "source": [
    "results = []\n",
    "\n",
    "print(f\"Training DenseNet121...\")\n",
    "result = train_and_evaluate_model(densenet121, 'DenseNet121')\n",
    "results.append(result)\n",
    "# save model\n",
    "densenet121.save('DenseNet121.keras')"
   ]
  },
  {
   "cell_type": "code",
   "execution_count": 8,
   "metadata": {},
   "outputs": [
    {
     "name": "stdout",
     "output_type": "stream",
     "text": [
      "\n",
      "Results Table:\n",
      "Model | Train Acc | Test Acc | Train Precision | Test Precision | Train Recall | Test Recall\n",
      "-------------------------------------------------------------------------------------\n",
      "DenseNet121 | 0.999 | 0.997 | 0.999 | 0.997 | 0.999 | 0.996\n"
     ]
    }
   ],
   "source": [
    "print(\"\\nResults Table:\")\n",
    "print(\"Model | Train Acc | Test Acc | Train Precision | Test Precision | Train Recall | Test Recall\")\n",
    "print(\"-\" * 85)\n",
    "for r in results:\n",
    "    print(f\"{r['model']} | {r['train_acc']:.3f} | {r['test_acc']:.3f} | {r['train_precision']:.3f} | {r['test_precision']:.3f} | {r['train_recall']:.3f} | {r['test_recall']:.3f}\")\n"
   ]
  }
 ],
 "metadata": {
  "kernelspec": {
   "display_name": "tf-gpu",
   "language": "python",
   "name": "python3"
  },
  "language_info": {
   "codemirror_mode": {
    "name": "ipython",
    "version": 3
   },
   "file_extension": ".py",
   "mimetype": "text/x-python",
   "name": "python",
   "nbconvert_exporter": "python",
   "pygments_lexer": "ipython3",
   "version": "3.11.5"
  }
 },
 "nbformat": 4,
 "nbformat_minor": 2
}
